{
 "cells": [
  {
   "cell_type": "markdown",
   "metadata": {},
   "source": [
    "# Face, Eye and Smile Recognition\n",
    "\n"
   ]
  },
  {
   "cell_type": "code",
   "execution_count": 5,
   "metadata": {},
   "outputs": [],
   "source": [
    "import cv2\n",
    "import numpy as np\n",
    "import time\n",
    "\n",
    "## Loading the cascade\n",
    "face_cascade= cv2.CascadeClassifier(\"haarcascades/haarcascade_frontalface_default.xml\")\n",
    "eye_cascade= cv2.CascadeClassifier(\"haarcascades/haarcascade_eye.xml\")\n",
    "smile_cascade= cv2.CascadeClassifier(\"haarcascades/haarcascade_smile.xml\")\n",
    "\n",
    "## Add  fullbody, lower_body or upper_body cascades. "
   ]
  },
  {
   "cell_type": "code",
   "execution_count": 6,
   "metadata": {},
   "outputs": [],
   "source": [
    "## Defining a function that will do the detections\n",
    "def detect(gray, frame):\n",
    "    faces = face_cascade.detectMultiScale(gray, 1.3, 5)\n",
    "    for x,y,w,h in faces:\n",
    "        cv2.rectangle(frame, (x,y), (x+w,y+h), (255,0,0), 2)\n",
    "        ## Get the Region Of Interest (ROI) to detect the eye inside the face rectangle\n",
    "        roi_gray = gray[y:y+h, x:x+w]\n",
    "        roi_color = frame[y:y+h, x:x+w]\n",
    "        \n",
    "        eyes = eye_cascade.detectMultiScale(roi_gray, 1.1, 22)\n",
    "        for e_x,e_y,e_w,e_h in eyes:\n",
    "            cv2.rectangle(roi_color, (e_x,e_y), (e_x+e_w,e_y+e_h), (0,255,0), 2)\n",
    "            \n",
    "        smiles = smile_cascade.detectMultiScale(roi_gray, 1.7, 22)\n",
    "        for s_x, s_y, s_w, s_h in smiles:\n",
    "            cv2.rectangle(roi_color, (s_x,s_h), (s_x+s_w,s_y+s_h), (0,0,255), 2)\n",
    "            \n",
    "    return frame\n"
   ]
  },
  {
   "cell_type": "code",
   "execution_count": 7,
   "metadata": {},
   "outputs": [],
   "source": [
    "def start_detection(webcam = False, save = True, split_RGB = False):\n",
    "    ## Doing some face recognotion with the webcam\n",
    "    if webcam:\n",
    "        video_capture = cv2.VideoCapture(0) # Read video from webcam\n",
    "    else:\n",
    "        video_capture = cv2.VideoCapture(\n",
    "            \"videos/young_sheldon_s02_p02.mp4\"\n",
    "        ) #Read video from a video file\n",
    "\n",
    "    ## Video Writer composants\n",
    "    ## initialize the FourCC, video writer, dimensions of the frame, and zeros array\n",
    "    fourcc = cv2.VideoWriter_fourcc(\"M\",\"J\",\"P\",\"G\") # MJPG, DIVX , or H264\n",
    "    writer = None\n",
    "    (h, w) = (None, None)\n",
    "    zeros = None\n",
    "\n",
    "    while True:\n",
    "        _, frame = video_capture.read()\n",
    "        gray = cv2.cvtColor(frame, cv2.COLOR_BGR2GRAY)\n",
    "        canvas = detect(gray, frame)\n",
    "        cv2.imshow(\"Face, Eye, and Smile detection activated\", canvas)\n",
    "\n",
    "        if save:\n",
    "            ## Video writing section: check if the writer is None\n",
    "            if writer is None:\n",
    "                # store the image dimensions, initialize the video writer,\n",
    "                # and construct the zeros array\n",
    "                (h, w) = frame.shape[:2]\n",
    "\n",
    "                if split_RGB:\n",
    "                    writer = cv2.VideoWriter(\"videos/face_detector_video_RGB.avi\", fourcc, 30, (w*2, h*2), True)\n",
    "                else:\n",
    "                    writer = cv2.VideoWriter(\"videos/face_detector_video.avi\", fourcc, 30, (w , h), True)\n",
    "                zeros = np.zeros((h, w), dtype=\"uint8\")\n",
    "\n",
    "            if split_RGB:\n",
    "                ## break the image into its RGB components, then construct the\n",
    "                ## RGB representation of each frame individually\n",
    "                (B, G, R) = cv2.split(canvas)\n",
    "                R = cv2.merge([zeros, zeros, R])\n",
    "                G = cv2.merge([zeros, G, zeros])\n",
    "                B = cv2.merge([B, zeros, zeros])\n",
    "\n",
    "                ## construct the final output frame, storing the original frame\n",
    "                ## at the top-left, the red channel in the top-right, the green\n",
    "                ## channel in the bottom-right, and the blue channel in the bottom-left\n",
    "                output = np.zeros((h * 2, w * 2, 3), dtype=\"uint8\")\n",
    "                output[0:h, 0:w] = canvas\n",
    "                output[0:h, w:w * 2] = R\n",
    "                output[h:h * 2, w:w * 2] = G\n",
    "                output[h:h * 2, 0:w] = B\n",
    "                ## write the output frame to file\n",
    "                writer.write(output)\n",
    "            else:\n",
    "                writer.write(canvas)\n",
    "\n",
    "    #     time.sleep(0.05)  # control framerate for computation \n",
    "\n",
    "        ## Quit when the click \"q\" on the keyboard \n",
    "        if cv2.waitKey(1) & 0xFF == ord('q'):\n",
    "            break\n",
    "\n",
    "    if writer is not None:\n",
    "        writer.release()\n",
    "    video_capture.release()\n",
    "    cv2.destroyAllWindows()"
   ]
  },
  {
   "cell_type": "code",
   "execution_count": 8,
   "metadata": {},
   "outputs": [],
   "source": [
    "#Start the detection by calling the function\n",
    "start_detection()"
   ]
  },
  {
   "cell_type": "code",
   "execution_count": null,
   "metadata": {},
   "outputs": [],
   "source": []
  }
 ],
 "metadata": {
  "kernelspec": {
   "display_name": "Python 3",
   "language": "python",
   "name": "python3"
  },
  "language_info": {
   "codemirror_mode": {
    "name": "ipython",
    "version": 3
   },
   "file_extension": ".py",
   "mimetype": "text/x-python",
   "name": "python",
   "nbconvert_exporter": "python",
   "pygments_lexer": "ipython3",
   "version": "3.7.8"
  }
 },
 "nbformat": 4,
 "nbformat_minor": 2
}
